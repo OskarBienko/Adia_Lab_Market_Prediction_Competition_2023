{
 "cells": [
  {
   "cell_type": "code",
   "execution_count": 1,
   "id": "3da4c4ec-dd5c-4ce3-9214-6cb8bd3ac081",
   "metadata": {
    "tags": []
   },
   "outputs": [],
   "source": [
    "import os\n",
    "os.chdir(path=os.getcwd().removesuffix('adialab-notebooks'))\n",
    "import pandas as pd\n",
    "import numpy as np\n",
    "np.random.seed(42)\n",
    "import json\n",
    "from typing import Dict\n",
    "from tqdm.notebook import tqdm\n",
    "from scipy.stats import spearmanr\n",
    "\n",
    "# Modeling\n",
    "import sklearn.ensemble\n",
    "from sklearn.model_selection import  KFold\n",
    "from sklearn.inspection import permutation_importance\n",
    "\n",
    "# Visualization\n",
    "import plotly.express as px\n",
    "px.defaults.width = 1000\n",
    "px.defaults.height = 600"
   ]
  },
  {
   "cell_type": "code",
   "execution_count": 2,
   "id": "b96e074a",
   "metadata": {},
   "outputs": [],
   "source": [
    "# Get the data\n",
    "X_train = pd.read_parquet('narrow-oskar/data/X_train.parquet')\n",
    "X_train = X_train.drop(columns=['id']).copy()\n",
    "y_train = pd.read_parquet('narrow-oskar/data/y_train.parquet')"
   ]
  },
  {
   "cell_type": "markdown",
   "id": "dd98b7ff",
   "metadata": {},
   "source": [
    "In order to derive important features I decided to use [permutation feature importance](https://scikit-learn.org/stable/modules/permutation_importance.html) since it's one of the most robust approaches available (BorutaSHAP is much more computationally expensive).\n",
    "* The permutation feature importance is the decrease in a model score when a single feature value is randomly shuffled. For each feature `j` (column of dataset D): For each repetition `k` in 1, ..., K: Randomly shuffle column j of dataset `D` to generate a corrupted version of the data named `D^k,j` and compute the score of model on corrupted data `D^k,j`.\n",
    "\n",
    "* Permutation feature importance overcomes limitations of the impurity-based feature importance: they do not have a bias toward high-cardinality features and can be computed on a left-out test set.\n",
    "\n",
    "* Using a validation set makes it possible to highlight which features contribute the most to the generalization power of the inspected model. Features that are important on the training set but not on the validation set might cause the model to overfit.\n",
    "\n",
    "* Moreover, instead of using one train/test split, I will perform 10-fold cross validation.\n",
    "\n",
    "* Additionally, I will consider a feature important on a given test set if its decrease in a model score exceeds that of a random variable."
   ]
  },
  {
   "cell_type": "code",
   "execution_count": 3,
   "id": "cb030503",
   "metadata": {},
   "outputs": [],
   "source": [
    "# Create a custom scorer\n",
    "'''\n",
    "For a callable to be a scorer, it needs to meet the protocol specified by the following two rules:\n",
    "1. It can be called with parameters (estimator, X, y), where estimator is the model that should be evaluated, X is validation data,\n",
    "    and y is the ground truth target for X (in the supervised case) or None (in the unsupervised case).\n",
    "2. It returns a floating point number that quantifies the estimator prediction quality on X, with reference to y. \n",
    "    Again, by convention higher numbers are better, so if your scorer returns loss, that value should be negated.\n",
    "Source: https://scikit-learn.org/stable/modules/model_evaluation.html#scoring\n",
    "'''\n",
    "\n",
    "def get_rank_corr_score(\n",
    "    estimator = None,\n",
    "    X_test: pd.DataFrame = None,\n",
    "    y_test: pd.DataFrame = None,\n",
    ") -> float:\n",
    "    \n",
    "    y_pred = estimator.predict(X_test)\n",
    "    score = spearmanr(y_pred, y_test)[0]\n",
    "    score = np.round(score, 3)\n",
    "    return score"
   ]
  },
  {
   "cell_type": "markdown",
   "id": "c9affdec",
   "metadata": {},
   "source": [
    "Default sklearn's K-Fold CV could result in data leakage.\n",
    "\n",
    "In order to avoid it, I should do:\n",
    "* Purging - removing all observations from the train set whose labels overlap in time with those labels included in the test set.\n",
    "* Embargoing - eliminating from the train set observations that immediately follow an observation in the test set.\n",
    "\n",
    "Since features exhibit AR(1) trend-following process and provided that y column probably contains returns between two consecutive dates, I need to purge/ embargo `1 date`. For that reason as well as for the sake of simplicity, I will use these terms interchangeably."
   ]
  },
  {
   "cell_type": "code",
   "execution_count": 4,
   "id": "a36b18bf",
   "metadata": {},
   "outputs": [],
   "source": [
    "def get_kfold_cv_permutation_importance(\n",
    "    X_data: pd.DataFrame = None,\n",
    "    y_data: pd.DataFrame = None,\n",
    "    n_splits: int = 10,\n",
    ") -> Dict:\n",
    "    \n",
    "    # Use dates to make the splits, instead of using rows directly\n",
    "    dates = X_data['date'].unique() \n",
    "    kfcv = KFold(n_splits=n_splits)\n",
    "    PURGE = 1\n",
    " \n",
    "    # Store performance in a dict\n",
    "    stats_CV = {}\n",
    "    \n",
    "    # Keep track of the number of folds\n",
    "    i = 0\n",
    "    for train, test in tqdm(kfcv.split(dates)):\n",
    "        \n",
    "        # Purge 1 date\n",
    "        if test.min() > train.max():\n",
    "            train = train[:-PURGE]\n",
    "        elif test.max() < train.min():\n",
    "            train = train[PURGE:]\n",
    "        elif test.min() > train.min() and test.max() < train.max():\n",
    "            train = np.concatenate((train[train < test.min()][:-PURGE], train[train > test.max()][PURGE:]))\n",
    "        \n",
    "        fold_train_X = X_data.loc[X_data['date'].isin(train), :].copy()\n",
    "        fold_train_X = fold_train_X.drop(columns=['date']).copy()\n",
    "        fold_train_y = y_data.loc[y_data['date'].isin(train), 'y'].copy()\n",
    "\n",
    "        fold_test_X = X_data.loc[X_data['date'].isin(test), :].copy()\n",
    "        fold_test_X = fold_test_X.drop(columns=['date']).copy()\n",
    "        fold_test_y = y_data.loc[y_data['date'].isin(test), 'y'].copy()\n",
    "        \n",
    "        # Create a random feature\n",
    "        fold_train_X.loc[:, 'random'] = np.random.normal(loc=0, scale=1, size=len(fold_train_X))\n",
    "        fold_test_X.loc[:, 'random'] = np.random.normal(loc=0, scale=1, size=len(fold_test_X))\n",
    "        \n",
    "        # Random Forest with prepruning, i.e. custom values for\n",
    "        # max_depth, min_samples_split, and min_samples_leaf\n",
    "        model = sklearn.ensemble.RandomForestRegressor(\n",
    "            random_state=42,\n",
    "            max_depth=6,\n",
    "            min_samples_split=100,\n",
    "            min_samples_leaf=50,\n",
    "            n_jobs=-1\n",
    "        )\n",
    "        model.fit(fold_train_X, fold_train_y)\n",
    "        \n",
    "        # Calculate permutation importance\n",
    "        result = permutation_importance(\n",
    "            estimator=model,\n",
    "            X=fold_test_X,\n",
    "            y=fold_test_y,\n",
    "            random_state=42,\n",
    "            n_repeats=6,\n",
    "            n_jobs=-1,\n",
    "            scoring=get_rank_corr_score,\n",
    "    )\n",
    "        # Store the results in a dict\n",
    "        stats_CV[i] = result\n",
    "        \n",
    "        # Keep track of the number of folds\n",
    "        i += 1\n",
    "        \n",
    "    return stats_CV"
   ]
  },
  {
   "cell_type": "code",
   "execution_count": 5,
   "id": "672f69f4",
   "metadata": {},
   "outputs": [
    {
     "data": {
      "application/vnd.jupyter.widget-view+json": {
       "model_id": "7cc1129ee6a94ecc8c6eaeb193cd6765",
       "version_major": 2,
       "version_minor": 0
      },
      "text/plain": [
       "0it [00:00, ?it/s]"
      ]
     },
     "metadata": {},
     "output_type": "display_data"
    }
   ],
   "source": [
    "statsCV = get_kfold_cv_permutation_importance(X_data=X_train, y_data=y_train, n_splits=10)"
   ]
  },
  {
   "cell_type": "code",
   "execution_count": 6,
   "id": "57f1410b",
   "metadata": {},
   "outputs": [],
   "source": [
    "import matplotlib.pylab as plt"
   ]
  },
  {
   "cell_type": "code",
   "execution_count": 9,
   "id": "61677e04",
   "metadata": {},
   "outputs": [
    {
     "data": {
      "image/png": "[encoded data removed]",
      "text/plain": [
       "<Figure size 640x480 with 1 Axes>"
      ]
     },
     "metadata": {},
     "output_type": "display_data"
    }
   ],
   "source": [
    "forest_importances = pd.Series(statsCV[0].importances_mean, index=X_train.drop(columns=['date']).columns.tolist() + ['random'])\n",
    "forest_std = pd.Series(statsCV[0].importances_std, index=X_train.drop(columns=['date']).columns.tolist() + ['random'])\n",
    "forest_importances = forest_importances.loc[forest_importances > forest_importances['random']].copy()\n",
    "forest_std = forest_std.loc[forest_importances.index].copy()\n",
    "\n",
    "fig, ax = plt.subplots()\n",
    "forest_importances.sort_values(ascending=False).plot.bar(yerr=forest_std, ax=ax)\n",
    "ax.set_title('Feature importances using permutation on the test set of the 0th fold (RandomForestRegressor)')\n",
    "ax.set_ylabel('Mean spearman correlation decrease')\n",
    "fig.tight_layout()\n",
    "plt.show()"
   ]
  },
  {
   "cell_type": "code",
   "execution_count": 10,
   "id": "2fbf6ec1",
   "metadata": {},
   "outputs": [],
   "source": [
    "stats = dict()\n",
    "for key, value in statsCV.items():\n",
    "    forest_importances = pd.Series(value.importances_mean, index=X_train.drop(columns=['date']).columns.tolist() + ['random'])\n",
    "    forest_importances = forest_importances.loc[forest_importances > forest_importances['random']].copy()\n",
    "    stats[key] = forest_importances.index"
   ]
  },
  {
   "cell_type": "code",
   "execution_count": 11,
   "id": "4461bf7c",
   "metadata": {},
   "outputs": [],
   "source": [
    "temp = list()\n",
    "for key, value in stats.items():\n",
    "    temp += list(value)"
   ]
  },
  {
   "cell_type": "code",
   "execution_count": 14,
   "id": "6150de64",
   "metadata": {},
   "outputs": [
    {
     "data": {
      "text/plain": [
       "240    10\n",
       "192    10\n",
       "356     9\n",
       "155     8\n",
       "159     7\n",
       "       ..\n",
       "1       1\n",
       "120     1\n",
       "455     1\n",
       "449     1\n",
       "460     1\n",
       "Name: names, Length: 154, dtype: int64"
      ]
     },
     "execution_count": 14,
     "metadata": {},
     "output_type": "execute_result"
    }
   ],
   "source": [
    "features = pd.Series(data=temp, name='names').value_counts()\n",
    "features"
   ]
  },
  {
   "cell_type": "code",
   "execution_count": 17,
   "id": "0641b75d",
   "metadata": {},
   "outputs": [
    {
     "data": {
      "text/plain": [
       "240    10\n",
       "192    10\n",
       "356     9\n",
       "155     8\n",
       "159     7\n",
       "217     6\n",
       "201     6\n",
       "81      6\n",
       "90      6\n",
       "107     6\n",
       "248     5\n",
       "353     5\n",
       "78      5\n",
       "111     4\n",
       "313     4\n",
       "140     4\n",
       "289     4\n",
       "134     3\n",
       "29      3\n",
       "227     3\n",
       "172     3\n",
       "319     3\n",
       "434     3\n",
       "139     3\n",
       "116     3\n",
       "245     3\n",
       "437     3\n",
       "76      2\n",
       "374     2\n",
       "93      2\n",
       "125     2\n",
       "137     2\n",
       "395     2\n",
       "457     2\n",
       "24      2\n",
       "182     2\n",
       "212     2\n",
       "35      2\n",
       "168     2\n",
       "44      2\n",
       "296     2\n",
       "359     2\n",
       "351     2\n",
       "Name: names, dtype: int64"
      ]
     },
     "execution_count": 17,
     "metadata": {},
     "output_type": "execute_result"
    }
   ],
   "source": [
    "# Looks like most of the features were 'significant' only once\n",
    "features.loc[features > 1]"
   ]
  },
  {
   "cell_type": "code",
   "execution_count": 20,
   "id": "ef22932f",
   "metadata": {},
   "outputs": [
    {
     "data": {
      "text/plain": [
       "240    10\n",
       "192    10\n",
       "356     9\n",
       "155     8\n",
       "159     7\n",
       "217     6\n",
       "201     6\n",
       "81      6\n",
       "90      6\n",
       "107     6\n",
       "248     5\n",
       "353     5\n",
       "78      5\n",
       "111     4\n",
       "313     4\n",
       "140     4\n",
       "289     4\n",
       "134     3\n",
       "29      3\n",
       "227     3\n",
       "172     3\n",
       "319     3\n",
       "434     3\n",
       "139     3\n",
       "116     3\n",
       "245     3\n",
       "437     3\n",
       "Name: names, dtype: int64"
      ]
     },
     "execution_count": 20,
     "metadata": {},
     "output_type": "execute_result"
    }
   ],
   "source": [
    "features.loc[features > 2]"
   ]
  },
  {
   "cell_type": "markdown",
   "id": "4dbb8a06",
   "metadata": {},
   "source": [
    "Features which decrease in a model score exceeds that of a random variable `three or more times` are selected. Using more rigorous threshold would result in a pretty small number of features."
   ]
  },
  {
   "cell_type": "code",
   "execution_count": 22,
   "id": "b2babb80",
   "metadata": {},
   "outputs": [],
   "source": [
    "def store_list_as_json(data_list, folder_path, file_name):\n",
    "    json_data = json.dumps(data_list)\n",
    "    file_path = folder_path + '/' + file_name\n",
    "    \n",
    "    # 'w' - Write - Opens a file for writing, creates the file if it does not exist\n",
    "    with open(file_path, 'w') as json_file:\n",
    "        json_file.write(json_data)"
   ]
  },
  {
   "cell_type": "code",
   "execution_count": 26,
   "id": "021c1731",
   "metadata": {},
   "outputs": [],
   "source": [
    "# Saving the selected features in 'data' directory\n",
    "folder_path = 'data'\n",
    "file_name = 'features.json'\n",
    "store_list_as_json(features.loc[features > 2].index.tolist(), folder_path, file_name)"
   ]
  }
 ],
 "metadata": {
  "kernelspec": {
   "display_name": "Python 3 (ipykernel)",
   "language": "python",
   "name": "python3"
  },
  "language_info": {
   "codemirror_mode": {
    "name": "ipython",
    "version": 3
   },
   "file_extension": ".py",
   "mimetype": "text/x-python",
   "name": "python",
   "nbconvert_exporter": "python",
   "pygments_lexer": "ipython3",
   "version": "3.11.0"
  }
 },
 "nbformat": 4,
 "nbformat_minor": 5
}
